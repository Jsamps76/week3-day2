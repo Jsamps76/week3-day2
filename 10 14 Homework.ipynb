{
 "cells": [
  {
   "cell_type": "code",
   "execution_count": 23,
   "metadata": {},
   "outputs": [
    {
     "name": "stdout",
     "output_type": "stream",
     "text": [
      "['Argentina', 'San Diego', 'Chicago', 'Barcelona']\n"
     ]
    }
   ],
   "source": [
    "places = ['', 'Argentina', ' ', 'San Diego', '', '     ', '', 'Chicago', 'Barcelona']\n",
    "places = list(filter(None, str_list))\n",
    "print(str_list)"
   ]
  },
  {
   "cell_type": "code",
   "execution_count": 24,
   "metadata": {},
   "outputs": [
    {
     "name": "stdout",
     "output_type": "stream",
     "text": [
      "['Victor aNisimov', 'Andrew P. Garfield', 'David HassELHOFF', 'Connor Milliken', 'Oprah wInfrey']\n"
     ]
    }
   ],
   "source": [
    "authors = [\"Connor Milliken\", \"Victor aNisimov\", \"Andrew P. Garfield\", \"David HassELHOFF\", \"Oprah wInfrey\"]\n",
    "authors.sort(key=lambda name: name.split(\" \")[-1].lower())\n",
    "print (authors)"
   ]
  },
  {
   "cell_type": "code",
   "execution_count": 25,
   "metadata": {},
   "outputs": [
    {
     "name": "stdout",
     "output_type": "stream",
     "text": [
      "[89.6, 53.6, 111.2, 84.2]\n"
     ]
    }
   ],
   "source": [
    "C = [32, 12, 44, 29] \n",
    "F = list(map(lambda x: (float(9)/5)*x + 32, C))\n",
    "print(F)\n"
   ]
  },
  {
   "cell_type": "code",
   "execution_count": null,
   "metadata": {},
   "outputs": [],
   "source": [
    "\n"
   ]
  },
  {
   "cell_type": "code",
   "execution_count": null,
   "metadata": {},
   "outputs": [],
   "source": []
  },
  {
   "cell_type": "code",
   "execution_count": null,
   "metadata": {},
   "outputs": [],
   "source": [
    "\n"
   ]
  },
  {
   "cell_type": "code",
   "execution_count": null,
   "metadata": {},
   "outputs": [],
   "source": []
  }
 ],
 "metadata": {
  "kernelspec": {
   "display_name": "Python 3",
   "language": "python",
   "name": "python3"
  },
  "language_info": {
   "codemirror_mode": {
    "name": "ipython",
    "version": 3
   },
   "file_extension": ".py",
   "mimetype": "text/x-python",
   "name": "python",
   "nbconvert_exporter": "python",
   "pygments_lexer": "ipython3",
   "version": "3.8.3"
  }
 },
 "nbformat": 4,
 "nbformat_minor": 4
}
