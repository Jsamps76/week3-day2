{
 "cells": [
  {
   "cell_type": "markdown",
   "metadata": {},
   "source": [
    "# Binary Search, Decorators, Dynamic Programming & Memoization"
   ]
  },
  {
   "cell_type": "markdown",
   "metadata": {},
   "source": [
    "## Tasks Today:\n",
    "\n",
    "1) <b>Binary Search</b> <br>\n",
    " &nbsp;&nbsp;&nbsp;&nbsp; a) How it Works <br>\n",
    " &nbsp;&nbsp;&nbsp;&nbsp; b) In-Class Exercise #1 <br>\n",
    "2) <b>Decorators</b> <br>\n",
    " &nbsp;&nbsp;&nbsp;&nbsp; a) Creating a Wrapper <br>\n",
    " &nbsp;&nbsp;&nbsp;&nbsp; b) The @ Symbol <br>\n",
    " &nbsp;&nbsp;&nbsp;&nbsp; c) Multiple Decorators <br>\n",
    " &nbsp;&nbsp;&nbsp;&nbsp; e) Saving a Decorator as a Variable <br>\n",
    " &nbsp;&nbsp;&nbsp;&nbsp; d) In-Class Exercise #2 <br>\n",
    "3) <b>Memoization</b> <br>\n",
    " &nbsp;&nbsp;&nbsp;&nbsp; a) Explicit Implementation <br>\n",
    " &nbsp;&nbsp;&nbsp;&nbsp; b) LRU_Cache <br>\n",
    " &nbsp;&nbsp;&nbsp;&nbsp; c) In-Class Exercise #3 <br>"
   ]
  },
  {
   "cell_type": "markdown",
   "metadata": {},
   "source": [
    "## Binary Search <br>\n",
    "<p>Standard way of searching lists</p>"
   ]
  },
  {
   "cell_type": "markdown",
   "metadata": {},
   "source": [
    "#### How it Works <br>\n",
    "<p>The Binary Search works by cutting a <b>SORTED</b> list in half and checking to see if it belongs in the first half or second half of the list, or if it is equal to the current middle index. If it is the current index it returns, but if it isn't, it then figures out if it belongs to the first half or second half of the list, then cuts that list in half, and repeats the process until it is either found or the list is 0</p>"
   ]
  },
  {
   "cell_type": "markdown",
   "metadata": {},
   "source": [
    "#### In-Class Exercise #1 <br>\n",
    "<p>Write a binary search algorithm</p>"
   ]
  },
  {
   "cell_type": "code",
   "execution_count": null,
   "metadata": {},
   "outputs": [],
   "source": [
    "import random\n",
    "\n",
    "my_list = [random.randint(0, 20) for i in range(10)]\n",
    "\n",
    "def binarySearch(alist, num):\n",
    "#     Create a copy of sorted list\n",
    "    alist_copy = sorted(alist[:])\n",
    "#     print(alist_copy, num)\n",
    "#     Loop through list\n",
    "    while True:\n",
    "#         If the list netiher has more than 1 value and the searched number is not found, return False\n",
    "        \n",
    "#         If the searched number is the middle number, return True\n",
    "        \n",
    "#         If the searched number is greater than the middle number, delete the first half of the list\n",
    "        \n",
    "#         If the searched number is less than the middle number, delete the second half of the list\n",
    "\n",
    "#         Repeat until complete\n",
    "        pass\n",
    "        \n",
    "binarySearch(my_list, random.randint(0, 20))"
   ]
  },
  {
   "cell_type": "markdown",
   "metadata": {},
   "source": [
    "## Decorators <br>\n",
    "<p>They are useful for wrapping functions, or adding more functionality to an already create function.</p>"
   ]
  },
  {
   "cell_type": "markdown",
   "metadata": {},
   "source": [
    "#### Creating a Wrapper"
   ]
  },
  {
   "cell_type": "code",
   "execution_count": 2,
   "metadata": {},
   "outputs": [],
   "source": [
    "# decorator must return a function\n"
   ]
  },
  {
   "cell_type": "markdown",
   "metadata": {},
   "source": [
    "#### The @ Symbol"
   ]
  },
  {
   "cell_type": "code",
   "execution_count": null,
   "metadata": {},
   "outputs": [],
   "source": []
  },
  {
   "cell_type": "markdown",
   "metadata": {},
   "source": [
    "#### Multiple Decorators"
   ]
  },
  {
   "cell_type": "code",
   "execution_count": null,
   "metadata": {},
   "outputs": [],
   "source": []
  },
  {
   "cell_type": "markdown",
   "metadata": {},
   "source": [
    "#### Saving a Decorator as a Variable"
   ]
  },
  {
   "cell_type": "code",
   "execution_count": null,
   "metadata": {},
   "outputs": [],
   "source": []
  },
  {
   "cell_type": "markdown",
   "metadata": {},
   "source": [
    "#### In-Class Exercise #2 <br>\n",
    "<p>Create a decorator that will put a border around all four sides of a function, which returns '2 + 2 = 4'</p>"
   ]
  },
  {
   "cell_type": "code",
   "execution_count": null,
   "metadata": {
    "scrolled": false
   },
   "outputs": [],
   "source": []
  },
  {
   "cell_type": "markdown",
   "metadata": {},
   "source": [
    "## Memoization <br>\n",
    "<p>Store values for recent function calls so that we can speed up the process</p>"
   ]
  },
  {
   "cell_type": "markdown",
   "metadata": {},
   "source": [
    "#### Explicit Implementation <br>\n",
    "<p>Creating our own memoization technique</p>"
   ]
  },
  {
   "cell_type": "code",
   "execution_count": null,
   "metadata": {},
   "outputs": [],
   "source": []
  },
  {
   "cell_type": "markdown",
   "metadata": {},
   "source": [
    "#### LRU_Cache <br>\n",
    "<p>Stands for least recently used cache</p>"
   ]
  },
  {
   "cell_type": "code",
   "execution_count": null,
   "metadata": {},
   "outputs": [],
   "source": []
  },
  {
   "cell_type": "markdown",
   "metadata": {},
   "source": [
    "#### In-Class Exercise #3 <br>\n",
    "<p>Create a recursive function that returns the multiplication of n and n - 1 using lru_cache.</p>"
   ]
  },
  {
   "cell_type": "code",
   "execution_count": null,
   "metadata": {},
   "outputs": [],
   "source": []
  }
 ],
 "metadata": {
  "kernelspec": {
   "display_name": "Python 3",
   "language": "python",
   "name": "python3"
  },
  "language_info": {
   "codemirror_mode": {
    "name": "ipython",
    "version": 3
   },
   "file_extension": ".py",
   "mimetype": "text/x-python",
   "name": "python",
   "nbconvert_exporter": "python",
   "pygments_lexer": "ipython3",
   "version": "3.8.3"
  }
 },
 "nbformat": 4,
 "nbformat_minor": 2
}
